{
  "nbformat": 4,
  "nbformat_minor": 0,
  "metadata": {
    "colab": {
      "provenance": []
    },
    "kernelspec": {
      "name": "python3",
      "display_name": "Python 3"
    },
    "language_info": {
      "name": "python"
    }
  },
  "cells": [
    {
      "cell_type": "code",
      "execution_count": null,
      "metadata": {
        "colab": {
          "base_uri": "https://localhost:8080/"
        },
        "id": "_ql0cYY9KlDA",
        "outputId": "0e319208-8a05-4fb4-830f-243d705578a0"
      },
      "outputs": [
        {
          "output_type": "stream",
          "name": "stdout",
          "text": [
            "Final Memory State: {800: 900, 900: 1000, 1500: 700}\n",
            "Final Accumulator Value: 0\n"
          ]
        }
      ],
      "source": [
        "#Answer of no:1\n",
        "init_mem = {}  # Empty memory at the very beginning\n",
        "a = {800: 123}  # 1st data with address 800 and value 123\n",
        "b = {900: 1000}  # 2nd data with address 900 and value 1000\n",
        "\n",
        "def store(storage, elm):\n",
        "    storage.update(elm)\n",
        "    return storage\n",
        "\n",
        "mem = store(init_mem, a)  # mem = {800: 123}\n",
        "mem = store(mem, b)  # mem = {800: 123, 900: 1000}\n",
        "\n",
        "c = {800: 900}\n",
        "mem = store(mem, c)  # mem = {800: 900, 900: 1000}\n",
        "\n",
        "d = {1500: 700}\n",
        "mem = store(mem, d)  # mem = {800: 900, 900: 1000, 1500: 700}\n",
        "\n",
        "def imm_load_ac(val):\n",
        "    return val\n",
        "\n",
        "ac = imm_load_ac(800)  # ac = 800\n",
        "\n",
        "def dir_load_ac(storage, val):\n",
        "    return storage.get(val, 0)\n",
        "\n",
        "ac = dir_load_ac(mem, 800)  # ac = 900\n",
        "\n",
        "def indir_load_ac(storage, val):\n",
        "    indir_addr = storage.get(val, 0)\n",
        "    return storage.get(indir_addr, 0)\n",
        "\n",
        "ac = indir_load_ac(mem, 800)  # ac = 1000\n",
        "\n",
        "def idx_load_ac(storage, idx, val):\n",
        "    idx_addr = storage.get(val, 0)\n",
        "    return storage.get(idx_addr + idx, 0)\n",
        "\n",
        "idxreg = 700\n",
        "ac = idx_load_ac(mem, idxreg, 800)  # ac = 700\n",
        "\n",
        "print(\"Final Memory State:\", mem)\n",
        "print(\"Final Accumulator Value:\", ac)\n"
      ]
    },
    {
      "cell_type": "code",
      "source": [
        "#Answer of no: 2\n",
        "init_mem = {}  # Empty memory at the very beginning\n",
        "\n",
        "# Take memory address as the key and all values in the block as the key's value\n",
        "a = {\"00000110101000\": [0, 1, 2, 3, 4, 5, 6, 7]}\n",
        "b = {\"00001110101000\": [10, 11, 12, 13, 14, 15, 16, 17]}\n",
        "\n",
        "def store(storage, elm):\n",
        "    storage.update(elm)\n",
        "    return storage\n",
        "\n",
        "mem = store(init_mem, a)\n",
        "mem = store(mem, b)\n",
        "\n",
        "# Cache line format: [tag (7 bits), values of 8 words, valid (1 bit)]\n",
        "cache = {\"0000\": [\"0000000\", [0, 0, 0, 0, 0, 0, 0, 0], 0],\n",
        "         \"0001\": [\"0000000\", [0, 0, 0, 0, 0, 0, 0, 0], 0],\n",
        "         \"0010\": [\"0000000\", [0, 0, 0, 0, 0, 0, 0, 0], 0],\n",
        "         \"0011\": [\"0000000\", [0, 0, 0, 0, 0, 0, 0, 0], 0],\n",
        "         \"0100\": [\"0000000\", [0, 0, 0, 0, 0, 0, 0, 0], 0],\n",
        "         \"0101\": [\"0000000\", [0, 0, 0, 0, 0, 0, 0, 0], 0],\n",
        "         \"0110\": [\"0000000\", [0, 0, 0, 0, 0, 0, 0, 0], 0],\n",
        "         \"0111\": [\"0000000\", [0, 0, 0, 0, 0, 0, 0, 0], 0],\n",
        "         \"1000\": [\"0000000\", [0, 0, 0, 0, 0, 0, 0, 0], 0],\n",
        "         \"1001\": [\"0000000\", [0, 0, 0, 0, 0, 0, 0, 0], 0],\n",
        "         \"1010\": [\"0000000\", [0, 0, 0, 0, 0, 0, 0, 0], 0],\n",
        "         \"1011\": [\"0000000\", [0, 0, 0, 0, 0, 0, 0, 0], 0],\n",
        "         \"1100\": [\"0000000\", [0, 0, 0, 0, 0, 0, 0, 0], 0],\n",
        "         \"1101\": [\"0000000\", [0, 0, 0, 0, 0, 0, 0, 0], 0],\n",
        "         \"1110\": [\"0000000\", [0, 0, 0, 0, 0, 0, 0, 0], 0],\n",
        "         \"1111\": [\"0000000\", [0, 0, 0, 0, 0, 0, 0, 0], 0]}\n",
        "\n",
        "adr1 = \"00000110101010\"  # hex address: 1AA\n",
        "\n",
        "def dir_map_cache(cache, adr, storage):\n",
        "    tag = adr[:7]\n",
        "    block = adr[7:11]\n",
        "    word = adr[11:]\n",
        "\n",
        "    block_data = storage.get(adr, [0] * 8)\n",
        "\n",
        "    cache_line = cache[block]\n",
        "    cache_tag = cache_line[0]\n",
        "\n",
        "    if cache_tag == tag:  # Hit\n",
        "        cache_line[1] = block_data\n",
        "        cache_line[2] = 1\n",
        "    else:  # Miss\n",
        "        if cache_line[2] == 1:  # If the line is valid, write back to memory\n",
        "            storage[cache_tag + block] = cache_line[1]\n",
        "        cache[block] = [tag, block_data, 1]\n",
        "\n",
        "    return cache\n",
        "\n",
        "cache = dir_map_cache(cache, adr1, mem)\n",
        "\n",
        "adr2 = \"00001110101010\"  # hex address: 3AA\n",
        "\n",
        "cache = dir_map_cache(cache, adr2, mem)\n",
        "\n",
        "c = {\"00001110111000\": [20, 21, 22, 23, 24, 25, 26, 27]}\n",
        "mem = store(mem, c)\n",
        "\n",
        "adr3 = \"00001110111111\"  # hex address: 7BF\n",
        "cache = dir_map_cache(cache, adr3, mem)\n",
        "\n",
        "def check_cache(cache, adr):\n",
        "    block = adr[7:11]\n",
        "    cache_line = cache[block]\n",
        "\n",
        "    if cache_line[2] == 1:  # If the line is valid\n",
        "        print(\"Hit\")\n",
        "    else:\n",
        "        print(\"Miss\")\n",
        "\n",
        "check_cache(cache, adr1)"
      ],
      "metadata": {
        "colab": {
          "base_uri": "https://localhost:8080/"
        },
        "id": "j0Ba77JN-zoO",
        "outputId": "c4c2c5b0-742f-4858-8623-8a2ca026d948"
      },
      "execution_count": 7,
      "outputs": [
        {
          "output_type": "stream",
          "name": "stdout",
          "text": [
            "Hit\n"
          ]
        }
      ]
    },
    {
      "cell_type": "code",
      "source": [
        "#Answer of No:3\n",
        "init_mem = {}  # Empty memory at the very beginning\n",
        "\n",
        "# Take memory address as the key and all values in the block as the key's value\n",
        "a = {\"00000110101000\": [0, 1, 2, 3, 4, 5, 6, 7]}\n",
        "b = {\"00001110101000\": [10, 11, 12, 13, 14, 15, 16, 17]}\n",
        "c = {\"00011110101000\": [20, 21, 22, 23, 24, 25, 26, 27]}\n",
        "d = {\"00111110101000\": [30, 31, 32, 33, 34, 35, 36, 37]}\n",
        "e = {\"01111110101000\": [40, 41, 42, 43, 44, 45, 46, 47]}\n",
        "\n",
        "def store(storage, elm):\n",
        "    storage.update(elm)\n",
        "    return storage\n",
        "\n",
        "mem = store(init_mem, a)\n",
        "mem = store(mem, b)\n",
        "mem = store(mem, c)\n",
        "mem = store(mem, d)\n",
        "mem = store(mem, e)\n",
        "\n",
        "# Initialize cache\n",
        "# Cache format: key -> block label\n",
        "#               value -> tag(11 bits), values of 8 words, valid(1 bit)\n",
        "# Assume that there are only 4 cache lines\n",
        "cache = {\"blk0\": [\"00000000000\", [0, 0, 0, 0, 0, 0, 0, 0], 0],\n",
        "         \"blk1\": [\"00000000000\", [0, 0, 0, 0, 0, 0, 0, 0], 0],\n",
        "         \"blk2\": [\"00000000000\", [0, 0, 0, 0, 0, 0, 0, 0], 0],\n",
        "         \"blk3\": [\"00000000000\", [0, 0, 0, 0, 0, 0, 0, 0], 0]}\n",
        "\n",
        "def fully_ass_cache(cache, adr, storage):\n",
        "    tag = adr[:11]\n",
        "    block_data = storage.get(adr, [0] * 8)\n",
        "\n",
        "    # Check for an available cache line with a valid bit of 0\n",
        "    for block, block_info in cache.items():\n",
        "        if block_info[2] == 0:\n",
        "            cache[block] = [tag, block_data, 1]\n",
        "            return cache\n",
        "\n",
        "    # If all cache lines are occupied, evict the least recently used line (LRU)\n",
        "    lru_block = min(cache, key=lambda x: cache[x][2])\n",
        "    cache[lru_block] = [tag, block_data, 1]\n",
        "\n",
        "    return cache\n",
        "\n",
        "adr1 = \"00000110101010\"  # hex address: 1AA\n",
        "cache = fully_ass_cache(cache, adr1, mem)\n",
        "\n",
        "adr2 = \"00001110101010\"  # hex address: 3AA\n",
        "cache = fully_ass_cache(cache, adr2, mem)\n",
        "\n",
        "adr3 = \"00011110101111\"  # hex address: 7AF\n",
        "cache = fully_ass_cache(cache, adr3, mem)\n",
        "\n",
        "adr4 = \"00111110101101\"  # hex address: FAD\n",
        "cache = fully_ass_cache(cache, adr4, mem)\n",
        "\n",
        "adr5 = '01111110101110'  # hex address: 1FAE\n",
        "cache = fully_ass_cache(cache, adr5, mem)\n",
        "\n",
        "print(\"Final Cache State:\")\n",
        "for block, block_info in cache.items():\n",
        "    print(f\"{block}: {block_info}\")"
      ],
      "metadata": {
        "colab": {
          "base_uri": "https://localhost:8080/"
        },
        "id": "_pBo-0PzBpPY",
        "outputId": "dc05e5fa-0f56-42d7-a76a-7eebeaf7f7a8"
      },
      "execution_count": 13,
      "outputs": [
        {
          "output_type": "stream",
          "name": "stdout",
          "text": [
            "Final Cache State:\n",
            "blk0: ['01111110101', [0, 0, 0, 0, 0, 0, 0, 0], 1]\n",
            "blk1: ['00001110101', [0, 0, 0, 0, 0, 0, 0, 0], 1]\n",
            "blk2: ['00011110101', [0, 0, 0, 0, 0, 0, 0, 0], 1]\n",
            "blk3: ['00111110101', [0, 0, 0, 0, 0, 0, 0, 0], 1]\n"
          ]
        }
      ]
    }
  ]
}